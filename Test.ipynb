{
 "cells": [
  {
   "cell_type": "markdown",
   "metadata": {},
   "source": []
  },
  {
   "cell_type": "code",
   "execution_count": 2,
   "metadata": {},
   "outputs": [],
   "source": [
    "from __future__ import absolute_import, division, print_function\n",
    "from builtins import *  # @UnusedWildImport\n",
    "\n",
    "from mcculw import ul\n",
    "from mcculw.device_info import DaqDeviceInfo\n",
    "from mcculw.enums import *\n",
    "\n",
    "try:\n",
    "    from mcculw.console_examples_util import config_first_detected_device\n",
    "except ImportError:\n",
    "    from mcculw.console_examples_util import config_first_detected_device\n",
    "import numpy as np\n",
    "from time import perf_counter_ns \n",
    "import matplotlib.pyplot as plt\n",
    "import pandas as pd\n",
    "\n",
    "import time\n",
    "import os\n",
    "import sys\n",
    "import libtiepie\n",
    "from tiepie.Tiepie_Examples.printinfo import *\n",
    "from matplotlib import rc"
   ]
  },
  {
   "cell_type": "markdown",
   "metadata": {},
   "source": [
    "## BlueBox DAC "
   ]
  },
  {
   "cell_type": "code",
   "execution_count": 2,
   "metadata": {},
   "outputs": [],
   "source": [
    "use_device_detection = True\n",
    "dev_id_list = []\n",
    "board_num = 0\n",
    "channel_in= 0\n",
    "channel_out = 0"
   ]
  },
  {
   "cell_type": "code",
   "execution_count": 3,
   "metadata": {},
   "outputs": [
    {
     "name": "stdout",
     "output_type": "stream",
     "text": [
      "Found 1 DAQ device(s):\n",
      "  USB-1208FS (1667411) - Device ID = 130\n"
     ]
    }
   ],
   "source": [
    "config_first_detected_device(board_num, dev_id_list)\n",
    "daq_dev_info = DaqDeviceInfo(board_num)"
   ]
  },
  {
   "cell_type": "code",
   "execution_count": 4,
   "metadata": {},
   "outputs": [],
   "source": [
    "ai_info = daq_dev_info.get_ai_info()\n",
    "ao_info = daq_dev_info.get_ao_info()\n",
    "ao_range = ao_info.supported_ranges[0]"
   ]
  },
  {
   "cell_type": "code",
   "execution_count": 5,
   "metadata": {},
   "outputs": [
    {
     "data": {
      "text/plain": [
       "[<ULRange.BIP20VOLTS: 15>,\n",
       " <ULRange.BIP10VOLTS: 1>,\n",
       " <ULRange.BIP5VOLTS: 0>,\n",
       " <ULRange.BIP4VOLTS: 16>,\n",
       " <ULRange.BIP2PT5VOLTS: 2>,\n",
       " <ULRange.BIP2VOLTS: 14>,\n",
       " <ULRange.BIP1PT25VOLTS: 3>,\n",
       " <ULRange.BIP1VOLTS: 4>]"
      ]
     },
     "execution_count": 5,
     "metadata": {},
     "output_type": "execute_result"
    }
   ],
   "source": [
    "ai_info.supported_ranges"
   ]
  },
  {
   "cell_type": "code",
   "execution_count": 6,
   "metadata": {},
   "outputs": [
    {
     "name": "stdout",
     "output_type": "stream",
     "text": [
      "[<ULRange.UNI4VOLTS: 114>]\n",
      "Max Range: 4.0 V\n",
      "Min Range: 0 V\n"
     ]
    }
   ],
   "source": [
    "print(ao_info.supported_ranges)\n",
    "print('Max Range: ' +str(ao_range.range_max) + ' V')\n",
    "print('Min Range: ' +str(ao_range.range_min) + ' V')"
   ]
  },
  {
   "cell_type": "code",
   "execution_count": 7,
   "metadata": {},
   "outputs": [
    {
     "name": "stdout",
     "output_type": "stream",
     "text": [
      "Output Voltages: [0. 1. 2. 3. 4.]\n"
     ]
    }
   ],
   "source": [
    "steps = 4   \n",
    "output_voltage = np.arange(0, ao_range.range_max + (ao_range.range_max/steps), ao_range.range_max/steps)\n",
    "print('Output Voltages: ' +str(output_voltage))"
   ]
  },
  {
   "cell_type": "code",
   "execution_count": 8,
   "metadata": {},
   "outputs": [],
   "source": [
    "ul.v_out(board_num, channel_out, ao_range, output_voltage[2])"
   ]
  },
  {
   "cell_type": "code",
   "execution_count": 9,
   "metadata": {},
   "outputs": [
    {
     "data": {
      "text/plain": [
       "0.576171875"
      ]
     },
     "execution_count": 9,
     "metadata": {},
     "output_type": "execute_result"
    }
   ],
   "source": [
    "value = ul.v_in(board_num, 0, ULRange.BIP20VOLTS)\n",
    "value"
   ]
  },
  {
   "cell_type": "code",
   "execution_count": 10,
   "metadata": {},
   "outputs": [],
   "source": [
    "n=0\n",
    "ul.v_out(board_num, channel_out, ao_range, output_voltage[n])\n",
    "time_p_voltage = 0.5; time_p_voltage_updated = time_p_voltage; \n",
    "total_time_measurement = time_p_voltage * len(output_voltage) \n",
    "time = 0; time_recording = [time]; voltage_recording = [n]\n",
    "time_zero = perf_counter_ns()\n",
    "while time < total_time_measurement:\n",
    "    if time > time_p_voltage_updated:\n",
    "        #print('before: ' + str(time_p_voltage))\n",
    "        #print('n before: ' + str(n))\n",
    "\n",
    "        n = n+1\n",
    "        ul.v_out(board_num, channel_out, ao_range, output_voltage[n])\n",
    "        time_p_voltage_updated = time_p_voltage * (n+1)\n",
    "        #print('after: ' + str(time_p_voltage_updated))\n",
    "        #print('n after: ' + str(n))\n",
    "\n",
    "        #print('')\n",
    "    \n",
    "    value = ul.v_in(board_num, 0, ULRange.BIP20VOLTS)\n",
    "    time = (perf_counter_ns()-time_zero) * (10**(-9))\n",
    "    voltage_recording = np.append(voltage_recording,value)\n",
    "    time_recording = np.append(time_recording,time)  "
   ]
  },
  {
   "cell_type": "code",
   "execution_count": 31,
   "metadata": {},
   "outputs": [
    {
     "data": {
      "text/plain": [
       "Text(0.5, 1.0, '\\\\textbf{Blue Box Voltage Steps: Voltage Increase of 1 V per Step $\\\\mathrm{\\\\vert}$ Pins input 1 \\\\& 13 output}')"
      ]
     },
     "execution_count": 31,
     "metadata": {},
     "output_type": "execute_result"
    },
    {
     "data": {
      "image/png": "[encoded data removed]",
      "text/plain": [
       "<Figure size 2000x800 with 1 Axes>"
      ]
     },
     "metadata": {},
     "output_type": "display_data"
    }
   ],
   "source": [
    "rc('text', usetex=True)\n",
    "plt.rc('font', family='serif')\n",
    "\n",
    "plt.figure(figsize=(10, 4), dpi=200)\n",
    "plt.plot(time_recording, voltage_recording)\n",
    "plt.xlabel(r'time (s)', fontsize=14) \n",
    "plt.ylabel(r'Voltage (V)', fontsize=14)\n",
    "plt.title(r'\\textbf{Blue Box Voltage Steps: Voltage Increase of 1 V per Step $\\mathrm{\\vert}$ Pins input 1 \\& 13 output}')\n"
   ]
  },
  {
   "cell_type": "code",
   "execution_count": 12,
   "metadata": {},
   "outputs": [],
   "source": [
    "ul.release_daq_device(board_num)"
   ]
  },
  {
   "cell_type": "code",
   "execution_count": null,
   "metadata": {},
   "outputs": [],
   "source": []
  },
  {
   "cell_type": "markdown",
   "metadata": {},
   "source": [
    "## Tiepie"
   ]
  },
  {
   "cell_type": "code",
   "execution_count": 4,
   "metadata": {},
   "outputs": [
    {
     "name": "stdout",
     "output_type": "stream",
     "text": [
      "Library:\n",
      "  Version      : 0.9.16.3\n",
      "  Configuration: 0x7e5aa1d78697bac1390b0b2580dbc623050301433ba0\n",
      "\n",
      "Available devices:\n",
      "  Name: Handyscope HS6 DIFF-1000XMSG\n",
      "    Serial number  : 37071\n",
      "    Available types: Oscilloscope\n"
     ]
    },
    {
     "data": {
      "text/plain": [
       "<IPython.core.autocall.ZMQExitAutocall at 0x1890a3c8908>"
      ]
     },
     "execution_count": 4,
     "metadata": {},
     "output_type": "execute_result"
    }
   ],
   "source": [
    "print_library_info()\n",
    "\n",
    "# Enable network search:\n",
    "libtiepie.network.auto_detect_enabled = True\n",
    "\n",
    "# Search for devices:\n",
    "libtiepie.device_list.update()\n",
    "\n",
    "if len(libtiepie.device_list) > 0:\n",
    "    print()\n",
    "    print('Available devices:')\n",
    "\n",
    "    for item in libtiepie.device_list:\n",
    "        print('  Name: ' + item.name)\n",
    "        print('    Serial number  : ' + str(item.serial_number))\n",
    "        print('    Available types: ' + libtiepie.device_type_str(item.types))\n",
    "\n",
    "        if item.has_server:\n",
    "            print('    Server         : ' + item.server.url + ' (' + item.server.name + ')')\n",
    "else:\n",
    "    print('No devices found!')\n",
    "\n",
    "exit\n"
   ]
  },
  {
   "cell_type": "code",
   "execution_count": 6,
   "metadata": {},
   "outputs": [],
   "source": [
    "tiepie = libtiepie.device_list[0]"
   ]
  },
  {
   "cell_type": "code",
   "execution_count": 13,
   "metadata": {},
   "outputs": [],
   "source": [
    "og_tp = tiepie._get_types"
   ]
  },
  {
   "cell_type": "code",
   "execution_count": 17,
   "metadata": {},
   "outputs": [
    {
     "data": {
      "text/plain": [
       "<function tiepie.Tiepie_Examples.printinfo.print_device_info(dev, full=True)>"
      ]
     },
     "execution_count": 17,
     "metadata": {},
     "output_type": "execute_result"
    }
   ],
   "source": [
    "print_device_info"
   ]
  },
  {
   "cell_type": "code",
   "execution_count": 5,
   "metadata": {},
   "outputs": [
    {
     "name": "stdout",
     "output_type": "stream",
     "text": [
      "Library:\n",
      "  Version      : 0.9.16.3\n",
      "  Configuration: 0x7e5aa1d78697bac1390b0b2580dbc623050301433ba0\n",
      "Device:\n",
      "  Name                      : Handyscope HS6 DIFF-1000XMSG\n",
      "  Short name                : HS6D-1000XMSG\n",
      "  Serial number             : 37071\n",
      "  Calibration date          : 2020-09-29\n",
      "  Product id                : 25\n",
      "  Vendor id                 : 2\n",
      "  Driver version            : 8.1.9.1\n",
      "  Firmware version          : 1.1.6.0\n",
      "  Has battery               : False\n",
      "Oscilloscope:\n",
      "  Channel count             : 4\n",
      "  Connection test           : True\n",
      "  Measure modes             : Stream, Block\n",
      "  Measure mode              : Block\n",
      "  Auto resolution modes     : Disabled, Native only, All\n",
      "  Auto resolution mode      : Native only\n",
      "  Resolutions               : 8, 12, 14, 16\n",
      "  Resolution                : 14\n",
      "  Resolution enhanced       : False\n",
      "  Clock outputs             : Disabled, Fixed\n",
      "  Clock output              : Disabled\n",
      "  Clock sources             : External, Internal\n",
      "  Clock source              : Internal\n",
      "  Record length max         : 256000000\n",
      "  Record length             : 10000\n",
      "  Sample frequency max      : 1000000000.0\n",
      "  Sample frequency          : 1000000.0\n",
      "  Segment count max         : 1\n",
      "  Pre sample ratio          : 0.0\n",
      "  Trigger time out          : 0.1\n",
      "  Trigger delay max         : 8522.825728\n",
      "  Trigger delay             : 0.0\n",
      "  Trigger holf off count max: 256000000\n",
      "  Trigger holf off count    : 0\n",
      "  Channel 1:\n",
      "    Connector type          : BNC\n",
      "    Differential            : True\n",
      "    Impedance               : 2000000.0\n",
      "    Connection test         : True\n",
      "    Available               : True\n",
      "    Enabled                 : True\n",
      "    Bandwidths              : 50000000.0, 100000000.0, 150000000.0, 250000000.0\n",
      "    Bandwidth               : 250000000.0\n",
      "    Couplings               : DCV, ACV, Ohm\n",
      "    Coupling                : DCV\n",
      "    Auto ranging            : False\n",
      "    Ranges                  : 0.2, 0.4, 0.8, 2.0, 4.0, 8.0, 20.0, 40.0, 80.0\n",
      "    Range                   : 8.0\n",
      "    Probe gain              : 1.0\n",
      "    Probe offset            : 0.0\n",
      "    Trigger:\n",
      "      Available             : True\n",
      "      Enabled               : True\n",
      "      Kinds                 : Rising edge, Falling edge, In window, Out window, Any edge, Enter window, Exit window, Pulse width positive, Pulse width negative, Interval rising, Interval falling\n",
      "      Kind                  : Rising edge\n",
      "      Level modes           : Relative, Absolute\n",
      "      Level mode            : Relative\n",
      "      Levels                : 0.5\n",
      "      Hystereses            : 0.05\n",
      "      Conditions            : \n",
      "      Times                 : \n",
      "  Channel 2:\n",
      "    Connector type          : BNC\n",
      "    Differential            : True\n",
      "    Impedance               : 2000000.0\n",
      "    Connection test         : True\n",
      "    Available               : True\n",
      "    Enabled                 : True\n",
      "    Bandwidths              : 50000000.0, 100000000.0, 150000000.0, 250000000.0\n",
      "    Bandwidth               : 250000000.0\n",
      "    Couplings               : DCV, ACV, Ohm\n",
      "    Coupling                : DCV\n",
      "    Auto ranging            : False\n",
      "    Ranges                  : 0.2, 0.4, 0.8, 2.0, 4.0, 8.0, 20.0, 40.0, 80.0\n",
      "    Range                   : 8.0\n",
      "    Probe gain              : 1.0\n",
      "    Probe offset            : 0.0\n",
      "    Trigger:\n",
      "      Available             : True\n",
      "      Enabled               : False\n",
      "      Kinds                 : Rising edge, Falling edge, In window, Out window, Any edge, Enter window, Exit window\n",
      "      Kind                  : Rising edge\n",
      "      Level modes           : Relative, Absolute\n",
      "      Level mode            : Relative\n",
      "      Levels                : 0.5\n",
      "      Hystereses            : 0.05\n",
      "      Conditions            : \n",
      "      Times                 : \n",
      "  Channel 3:\n",
      "    Connector type          : BNC\n",
      "    Differential            : True\n",
      "    Impedance               : 2000000.0\n",
      "    Connection test         : True\n",
      "    Available               : True\n",
      "    Enabled                 : True\n",
      "    Bandwidths              : 50000000.0, 100000000.0, 150000000.0, 250000000.0\n",
      "    Bandwidth               : 250000000.0\n",
      "    Couplings               : DCV, ACV, Ohm\n",
      "    Coupling                : DCV\n",
      "    Auto ranging            : False\n",
      "    Ranges                  : 0.2, 0.4, 0.8, 2.0, 4.0, 8.0, 20.0, 40.0, 80.0\n",
      "    Range                   : 8.0\n",
      "    Probe gain              : 1.0\n",
      "    Probe offset            : 0.0\n",
      "    Trigger:\n",
      "      Available             : True\n",
      "      Enabled               : False\n",
      "      Kinds                 : Rising edge, Falling edge, In window, Out window, Any edge, Enter window, Exit window\n",
      "      Kind                  : Rising edge\n",
      "      Level modes           : Relative, Absolute\n",
      "      Level mode            : Relative\n",
      "      Levels                : 0.5\n",
      "      Hystereses            : 0.05\n",
      "      Conditions            : \n",
      "      Times                 : \n",
      "  Channel 4:\n",
      "    Connector type          : BNC\n",
      "    Differential            : True\n",
      "    Impedance               : 2000000.0\n",
      "    Connection test         : True\n",
      "    Available               : True\n",
      "    Enabled                 : True\n",
      "    Bandwidths              : 50000000.0, 100000000.0, 150000000.0, 250000000.0\n",
      "    Bandwidth               : 250000000.0\n",
      "    Couplings               : DCV, ACV, Ohm\n",
      "    Coupling                : DCV\n",
      "    Auto ranging            : False\n",
      "    Ranges                  : 0.2, 0.4, 0.8, 2.0, 4.0, 8.0, 20.0, 40.0, 80.0\n",
      "    Range                   : 8.0\n",
      "    Probe gain              : 1.0\n",
      "    Probe offset            : 0.0\n",
      "    Trigger:\n",
      "      Available             : True\n",
      "      Enabled               : False\n",
      "      Kinds                 : Rising edge, Falling edge, In window, Out window, Any edge, Enter window, Exit window\n",
      "      Kind                  : Rising edge\n",
      "      Level modes           : Relative, Absolute\n",
      "      Level mode            : Relative\n",
      "      Levels                : 0.5\n",
      "      Hystereses            : 0.05\n",
      "      Conditions            : \n",
      "      Times                 : \n",
      "  Trigger input 1:\n",
      "    Id                      : 3145984\n",
      "    Name                    : EXT 1\n",
      "    Available               : True\n",
      "    Enabled                 : False\n",
      "    Kinds                   : Rising edge, Falling edge\n",
      "    Kind                    : Rising edge\n",
      "  Trigger input 2:\n",
      "    Id                      : 3146240\n",
      "    Name                    : EXT 2\n",
      "    Available               : True\n",
      "    Enabled                 : False\n",
      "    Kinds                   : Rising edge, Falling edge\n",
      "    Kind                    : Rising edge\n",
      "  Trigger output 1:\n",
      "    Id                      : 3145984\n",
      "    Name                    : EXT 1\n",
      "    Enabled                 : False\n",
      "    Events                  : Oscilloscope running, Oscilloscope triggered\n",
      "    Event                   : Oscilloscope running\n",
      "  Trigger output 2:\n",
      "    Id                      : 3146240\n",
      "    Name                    : EXT 2\n",
      "    Enabled                 : False\n",
      "    Events                  : Oscilloscope running, Oscilloscope triggered\n",
      "    Event                   : Oscilloscope running\n",
      "\n",
      "Data written to: OscilloscopeBlock_.csv\n"
     ]
    },
    {
     "data": {
      "text/plain": [
       "<IPython.core.autocall.ZMQExitAutocall at 0x1890a3c8908>"
      ]
     },
     "execution_count": 5,
     "metadata": {},
     "output_type": "execute_result"
    }
   ],
   "source": [
    "# OscilloscopeBlock.py\n",
    "#\n",
    "# This example performs a block mode measurement and writes the data to OscilloscopeBlock.csv.\n",
    "#\n",
    "# Find more information on http://www.tiepie.com/LibTiePie .\n",
    "\n",
    "\n",
    "\n",
    "# Print library info:\n",
    "print_library_info()\n",
    "\n",
    "# Enable network search:\n",
    "libtiepie.network.auto_detect_enabled = True\n",
    "\n",
    "# Search for devices:\n",
    "libtiepie.device_list.update()\n",
    "\n",
    "# Try to open an oscilloscope with block measurement support:\n",
    "scp = None\n",
    "for item in libtiepie.device_list:\n",
    "    if item.can_open(libtiepie.DEVICETYPE_OSCILLOSCOPE):\n",
    "        scp = item.open_oscilloscope()\n",
    "        if scp.measure_modes & libtiepie.MM_BLOCK:\n",
    "            break\n",
    "        else:\n",
    "            scp = None\n",
    "\n",
    "if scp:\n",
    "    try:\n",
    "        # Set measure mode:\n",
    "        scp.measure_mode = libtiepie.MM_BLOCK\n",
    "\n",
    "        # Set sample frequency:\n",
    "        scp.sample_frequency = 1e6  # 1 MHz\n",
    "\n",
    "        # Set record length:\n",
    "        scp.record_length = 10000  # 10000 samples\n",
    "\n",
    "        # Set pre sample ratio:\n",
    "        scp.pre_sample_ratio = 0  # 0 %\n",
    "\n",
    "        # For all channels:\n",
    "        for ch in scp.channels:\n",
    "            # Enable channel to measure it:\n",
    "            ch.enabled = True\n",
    "\n",
    "            # Set range:\n",
    "            ch.range = 8  # 8 V\n",
    "\n",
    "            # Set coupling:\n",
    "            ch.coupling = libtiepie.CK_DCV  # DC Volt\n",
    "\n",
    "        # Set trigger timeout:\n",
    "        scp.trigger_time_out = 100e-3  # 100 ms\n",
    "\n",
    "        # Disable all channel trigger sources:\n",
    "        for ch in scp.channels:\n",
    "            ch.trigger.enabled = False\n",
    "\n",
    "        # Setup channel trigger:\n",
    "        ch = scp.channels[0]  # Ch 1\n",
    "\n",
    "        # Enable trigger source:\n",
    "        ch.trigger.enabled = True\n",
    "\n",
    "        # Kind:\n",
    "        ch.trigger.kind = libtiepie.TK_RISINGEDGE  # Rising edge\n",
    "\n",
    "        # Level:\n",
    "        ch.trigger.levels[0] = 0.5  # 50 %\n",
    "\n",
    "        # Hysteresis:\n",
    "        ch.trigger.hystereses[0] = 0.05  # 5 %\n",
    "\n",
    "        # Print oscilloscope info:\n",
    "        print_device_info(scp)\n",
    "\n",
    "        # Start measurement:\n",
    "        scp.start()\n",
    "\n",
    "        # Wait for measurement to complete:\n",
    "        while not scp.is_data_ready:\n",
    "            time.sleep(0.01)  # 10 ms delay, to save CPU time\n",
    "\n",
    "        # Get data:\n",
    "        data = scp.get_data()\n",
    "\n",
    "        # Output CSV data:\n",
    "        csv_file = open('OscilloscopeBlock_.csv', 'w')\n",
    "        try:\n",
    "            csv_file.write('Sample')\n",
    "            for i in range(len(data)):\n",
    "                csv_file.write(';Ch' + str(i + 1))\n",
    "            csv_file.write(os.linesep)\n",
    "            for i in range(len(data[0])):\n",
    "                csv_file.write(str(i))\n",
    "                for j in range(len(data)):\n",
    "                    csv_file.write(';' + str(data[j][i]))\n",
    "                csv_file.write(os.linesep)\n",
    "\n",
    "            print()\n",
    "            print('Data written to: ' + csv_file.name)\n",
    "\n",
    "        finally:\n",
    "            csv_file.close()\n",
    "\n",
    "    except Exception as e:\n",
    "        print('Exception: ' + e.message)\n",
    "        sys.exit(1)\n",
    "\n",
    "    # Close oscilloscope:\n",
    "    del scp\n",
    "\n",
    "else:\n",
    "    print('No oscilloscope available with block measurement support!')\n",
    "    exit\n",
    "\n",
    "exit\n"
   ]
  },
  {
   "cell_type": "code",
   "execution_count": 6,
   "metadata": {},
   "outputs": [],
   "source": [
    "df = pd.read_csv('OscilloscopeBlock_.csv', delimiter=';')  \n"
   ]
  },
  {
   "cell_type": "code",
   "execution_count": 8,
   "metadata": {},
   "outputs": [
    {
     "data": {
      "text/plain": [
       "Text(0.5, 1.0, 'Plot of Ch1')"
      ]
     },
     "execution_count": 8,
     "metadata": {},
     "output_type": "execute_result"
    },
    {
     "data": {
      "image/png": "[encoded data removed]",
      "text/plain": [
       "<Figure size 1500x600 with 1 Axes>"
      ]
     },
     "metadata": {},
     "output_type": "display_data"
    }
   ],
   "source": [
    "column_to_plot= 'Ch1'\n",
    "plt.figure(figsize=(10, 4), dpi=150)\n",
    "plt.plot(df['Sample'], df[column_to_plot])\n",
    "\n",
    "# Set axis labels and title (customize as needed)\n",
    "plt.xlabel('Index')\n",
    "plt.ylabel('Voltage')\n",
    "plt.title(f'Plot of {column_to_plot}')Salchicha2!"
   ]
  },
  {
   "cell_type": "markdown",
   "metadata": {},
   "source": [
    "## PROLOGIX and Light Driver ITC 510"
   ]
  },
  {
   "cell_type": "code",
   "execution_count": 1,
   "metadata": {},
   "outputs": [
    {
     "name": "stdout",
     "output_type": "stream",
     "text": [
      "Address 10\n",
      "\n"
     ]
    }
   ],
   "source": [
    "#https://docs.python.org/3/library/socketserver.html#socketserver-tcpserver-example\n",
    "\n",
    "import socket\n",
    "host_ = '169.254.1.80'\n",
    "port_ = 1234\n",
    "s = socket.socket(socket.AF_INET, socket.SOCK_STREAM)\n",
    "s.connect((host_,port_))\n",
    "# Set Address\n",
    "s.sendall(bytes('++addr 10\\n', 'utf-8'))\n",
    "s.sendall(bytes('++addr\\n', 'utf-8'))\n",
    "received = str(s.recv(1024), 'utf-8')\n",
    "print('Address ' + received)"
   ]
  },
  {
   "cell_type": "code",
   "execution_count": 8,
   "metadata": {},
   "outputs": [
    {
     "name": "stdout",
     "output_type": "stream",
     "text": [
      "Laser Diode Polarity:LDPOL AG\n",
      "\n"
     ]
    }
   ],
   "source": [
    "# Laser Diode Polarity\n",
    "s.sendall(bytes(':LDPOL?\\n', 'utf-8'))\n",
    "received = str(s.recv(1024), 'utf-8')\n",
    "print('Laser Diode Polarity ' + received)\n"
   ]
  },
  {
   "cell_type": "code",
   "execution_count": 9,
   "metadata": {},
   "outputs": [
    {
     "name": "stdout",
     "output_type": "stream",
     "text": [
      "Operation Mode:MODE CC\n",
      "\n"
     ]
    }
   ],
   "source": [
    "# Laser Diode Polarity\n",
    "s.sendall(bytes(':MODE?\\n', 'utf-8'))\n",
    "received = str(s.recv(1024), 'utf-8')\n",
    "print('Operation Mode ' + received)"
   ]
  },
  {
   "cell_type": "code",
   "execution_count": 2,
   "metadata": {},
   "outputs": [],
   "source": [
    "current_set_mA = 10 \n",
    "string_format_current = current_set_mA/100"
   ]
  },
  {
   "cell_type": "code",
   "execution_count": null,
   "metadata": {},
   "outputs": [],
   "source": []
  },
  {
   "cell_type": "code",
   "execution_count": null,
   "metadata": {},
   "outputs": [],
   "source": []
  },
  {
   "cell_type": "code",
   "execution_count": null,
   "metadata": {},
   "outputs": [],
   "source": []
  },
  {
   "cell_type": "code",
   "execution_count": 10,
   "metadata": {},
   "outputs": [],
   "source": [
    "# Setting the current I_LD\n",
    "current_set_mA = 10 \n",
    "string_format_current = current_set_mA/100\n",
    "\n",
    "s.sendall(bytes(':ILD:SET 0.1E-1\\n', 'utf-8'))\n",
    "# Reading the current\n",
    "s.sendall(bytes(':ILD:ACT?\\n', 'utf-8'))\n",
    "received = str(s.recv(1024), 'utf-8')\n",
    "print(' ' + received)"
   ]
  },
  {
   "cell_type": "code",
   "execution_count": 5,
   "metadata": {},
   "outputs": [],
   "source": [
    "s.close()"
   ]
  },
  {
   "cell_type": "code",
   "execution_count": null,
   "metadata": {},
   "outputs": [],
   "source": [
    "#AG = Anode Ground"
   ]
  }
 ],
 "metadata": {
  "kernelspec": {
   "display_name": "Python 3",
   "language": "python",
   "name": "python3"
  },
  "language_info": {
   "codemirror_mode": {
    "name": "ipython",
    "version": 3
   },
   "file_extension": ".py",
   "mimetype": "text/x-python",
   "name": "python",
   "nbconvert_exporter": "python",
   "pygments_lexer": "ipython3",
   "version": "3.7.8"
  }
 },
 "nbformat": 4,
 "nbformat_minor": 2
}
